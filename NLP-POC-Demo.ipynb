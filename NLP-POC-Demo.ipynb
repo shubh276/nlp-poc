{
 "cells": [
  {
   "cell_type": "code",
   "execution_count": 1,
   "metadata": {},
   "outputs": [],
   "source": [
    "import nltk\n",
    "import warnings\n",
    "warnings.filterwarnings('ignore')\n",
    "import numpy as np\n",
    "import pandas as pd\n",
    "import os\n",
    "os.chdir(\"D:/PlayGround/NLP/\")"
   ]
  },
  {
   "cell_type": "code",
   "execution_count": 2,
   "metadata": {},
   "outputs": [],
   "source": [
    "df_init = pd.read_excel('keyword_grouping.xlsx')"
   ]
  },
  {
   "cell_type": "code",
   "execution_count": 3,
   "metadata": {},
   "outputs": [
    {
     "name": "stdout",
     "output_type": "stream",
     "text": [
      "<class 'pandas.core.frame.DataFrame'>\n",
      "RangeIndex: 6554 entries, 0 to 6553\n",
      "Data columns (total 2 columns):\n",
      "Keyword            6552 non-null object\n",
      "Refined Keyword    3391 non-null object\n",
      "dtypes: object(2)\n",
      "memory usage: 102.5+ KB\n"
     ]
    }
   ],
   "source": [
    "df_init.info()"
   ]
  },
  {
   "cell_type": "code",
   "execution_count": 5,
   "metadata": {
    "scrolled": true
   },
   "outputs": [],
   "source": [
    "df = df_init.copy()"
   ]
  },
  {
   "cell_type": "code",
   "execution_count": 6,
   "metadata": {},
   "outputs": [
    {
     "name": "stdout",
     "output_type": "stream",
     "text": [
      "<class 'pandas.core.frame.DataFrame'>\n",
      "Int64Index: 3391 entries, 77 to 6553\n",
      "Data columns (total 2 columns):\n",
      "Keyword            3391 non-null object\n",
      "Refined Keyword    3391 non-null object\n",
      "dtypes: object(2)\n",
      "memory usage: 79.5+ KB\n"
     ]
    }
   ],
   "source": [
    "# Remove NaN/Empty\n",
    "df = df.dropna()\n",
    "df.info()"
   ]
  },
  {
   "cell_type": "code",
   "execution_count": 18,
   "metadata": {},
   "outputs": [],
   "source": [
    "# function to add language feature\n",
    "\n",
    "def add_lang_feat(dfi):\n",
    "    dfi['non_eng'] = 0\n",
    "    for index,row in dfi.iterrows():\n",
    "        maxchar = max(row['Keyword'])\n",
    "        if ord(maxchar)>127:\n",
    "            dfi['non_eng'][index] = 1\n",
    "    return dfi\n"
   ]
  },
  {
   "cell_type": "code",
   "execution_count": 19,
   "metadata": {},
   "outputs": [],
   "source": [
    "# functions to split urls into words\n",
    "\n",
    "def split_url(line):\n",
    "    import re\n",
    "    words = re.split('\\:|\\/|, |\\.|\\n|\\>|\\<|\\-|\\@',line)\n",
    "    non_empty = []\n",
    "    for word in words:\n",
    "        if len(word)>0:\n",
    "            non_empty.append(word)\n",
    "    return ' '.join(non_empty)\n",
    "\n",
    "def split_url_into_words(dfi):\n",
    "    for index, row in dfi.iterrows():\n",
    "        dfi['Keyword'][index] = split_url(str(row['Keyword']))\n",
    "    return dfi\n",
    "        \n"
   ]
  },
  {
   "cell_type": "code",
   "execution_count": 20,
   "metadata": {},
   "outputs": [],
   "source": [
    "# function to detect language in the text and add a feature to df\n",
    "\n",
    "def detect_lang(dfi):\n",
    "    dfi['lang'] = 'en'\n",
    "    from langdetect import detect\n",
    "    for index, row in dfi.iterrows():\n",
    "        try:\n",
    "            dfi['lang'][index] = detect(row['Keyword'])\n",
    "        except:\n",
    "            print(row)\n",
    "    return dfi\n",
    "    "
   ]
  },
  {
   "cell_type": "code",
   "execution_count": 21,
   "metadata": {},
   "outputs": [],
   "source": [
    "# separating df with only english characters\n",
    "def eng_df(dfi):\n",
    "    dfi = dfi[dfi['non_eng']==0]\n",
    "    return dfi"
   ]
  },
  {
   "cell_type": "code",
   "execution_count": 12,
   "metadata": {},
   "outputs": [],
   "source": [
    "# Global Count Feature Vector Object\n",
    "from sklearn.feature_extraction.text import CountVectorizer\n",
    "global_count_vect = CountVectorizer(analyzer='word')"
   ]
  },
  {
   "cell_type": "code",
   "execution_count": 22,
   "metadata": {},
   "outputs": [],
   "source": [
    "# function to fit count feature vectors\n",
    "\n",
    "def fit_count_vector(df_col):\n",
    "    global_count_vect.fit(df_col)"
   ]
  },
  {
   "cell_type": "code",
   "execution_count": 23,
   "metadata": {},
   "outputs": [],
   "source": [
    "# transform the data using count vectorizer object\n",
    "\n",
    "def add_count_features(dfi):\n",
    "    keyword_feature_matrix =  global_count_vect.transform(dfi['Keyword'])\n",
    "    features = global_count_vect.get_feature_names()\n",
    "    transformed_df = pd.DataFrame(keyword_feature_matrix.toarray(), columns = features)\n",
    "    transformed_df['label'] = dfi['Refined Keyword'].tolist()\n",
    "    transformed_df['Keyword'] = dfi['Keyword'].tolist()\n",
    "    transformed_df['lang'] = dfi['lang'].tolist()\n",
    "    return transformed_df"
   ]
  },
  {
   "cell_type": "code",
   "execution_count": 35,
   "metadata": {},
   "outputs": [],
   "source": [
    "# function to convert categorial cols to integers with LabelEncoding\n",
    "\n",
    "def label_encode(dfi, cat_cols):\n",
    "    from sklearn import preprocessing\n",
    "    for col in cat_cols:\n",
    "        lbl = preprocessing.LabelEncoder()\n",
    "        lbl.fit(list(dfi[col].values.astype('str')))\n",
    "        dfi[col] = lbl.transform(list(dfi[col].values.astype('str')))\n",
    "    return dfi"
   ]
  },
  {
   "cell_type": "markdown",
   "metadata": {},
   "source": [
    "# Preprocessing and Feature Engineering"
   ]
  },
  {
   "cell_type": "code",
   "execution_count": 17,
   "metadata": {},
   "outputs": [
    {
     "name": "stdout",
     "output_type": "stream",
     "text": [
      "<class 'pandas.core.frame.DataFrame'>\n",
      "Int64Index: 3391 entries, 77 to 6553\n",
      "Data columns (total 2 columns):\n",
      "Keyword            3391 non-null object\n",
      "Refined Keyword    3391 non-null object\n",
      "dtypes: object(2)\n",
      "memory usage: 79.5+ KB\n"
     ]
    }
   ],
   "source": [
    "# Step 1 : Remove NaN/Empty\n",
    "df = df.dropna()\n",
    "df.info()"
   ]
  },
  {
   "cell_type": "code",
   "execution_count": 24,
   "metadata": {},
   "outputs": [
    {
     "data": {
      "text/html": [
       "<div>\n",
       "<style scoped>\n",
       "    .dataframe tbody tr th:only-of-type {\n",
       "        vertical-align: middle;\n",
       "    }\n",
       "\n",
       "    .dataframe tbody tr th {\n",
       "        vertical-align: top;\n",
       "    }\n",
       "\n",
       "    .dataframe thead th {\n",
       "        text-align: right;\n",
       "    }\n",
       "</style>\n",
       "<table border=\"1\" class=\"dataframe\">\n",
       "  <thead>\n",
       "    <tr style=\"text-align: right;\">\n",
       "      <th></th>\n",
       "      <th>Keyword</th>\n",
       "      <th>Refined Keyword</th>\n",
       "      <th>non_eng</th>\n",
       "    </tr>\n",
       "  </thead>\n",
       "  <tbody>\n",
       "    <tr>\n",
       "      <th>77</th>\n",
       "      <td>1mobile market</td>\n",
       "      <td>Mobile App Development</td>\n",
       "      <td>0</td>\n",
       "    </tr>\n",
       "    <tr>\n",
       "      <th>78</th>\n",
       "      <td>2 2 channel ukraine</td>\n",
       "      <td>GL - Ukraine</td>\n",
       "      <td>0</td>\n",
       "    </tr>\n",
       "    <tr>\n",
       "      <th>79</th>\n",
       "      <td>5 ETAPAS DE BPMN</td>\n",
       "      <td>Technical Keyword</td>\n",
       "      <td>0</td>\n",
       "    </tr>\n",
       "    <tr>\n",
       "      <th>80</th>\n",
       "      <td>5 ETAPAS DEL BPMN</td>\n",
       "      <td>Technical Keyword</td>\n",
       "      <td>0</td>\n",
       "    </tr>\n",
       "    <tr>\n",
       "      <th>81</th>\n",
       "      <td>5 g live mobile</td>\n",
       "      <td>Mobile App Development</td>\n",
       "      <td>0</td>\n",
       "    </tr>\n",
       "  </tbody>\n",
       "</table>\n",
       "</div>"
      ],
      "text/plain": [
       "                Keyword         Refined Keyword  non_eng\n",
       "77       1mobile market  Mobile App Development        0\n",
       "78  2 2 channel ukraine            GL - Ukraine        0\n",
       "79     5 ETAPAS DE BPMN       Technical Keyword        0\n",
       "80    5 ETAPAS DEL BPMN       Technical Keyword        0\n",
       "81      5 g live mobile  Mobile App Development        0"
      ]
     },
     "execution_count": 24,
     "metadata": {},
     "output_type": "execute_result"
    }
   ],
   "source": [
    "# Step 2 : Adding Language Feature\n",
    "df = add_lang_feat(df)\n",
    "df[:5]"
   ]
  },
  {
   "cell_type": "code",
   "execution_count": 25,
   "metadata": {},
   "outputs": [],
   "source": [
    "# Step 3 : Split urls in Keyword column to words\n",
    "df = split_url_into_words(df)"
   ]
  },
  {
   "cell_type": "code",
   "execution_count": 26,
   "metadata": {},
   "outputs": [],
   "source": [
    "# Step 4 : detect language in the text and add a feature to df\n",
    "df = detect_lang(df)"
   ]
  },
  {
   "cell_type": "code",
   "execution_count": 27,
   "metadata": {},
   "outputs": [
    {
     "data": {
      "text/plain": [
       "en    1650\n",
       "ca     447\n",
       "it     323\n",
       "tl     220\n",
       "es     122\n",
       "Name: lang, dtype: int64"
      ]
     },
     "execution_count": 27,
     "metadata": {},
     "output_type": "execute_result"
    }
   ],
   "source": [
    "df['lang'].value_counts()[:5]"
   ]
  },
  {
   "cell_type": "code",
   "execution_count": 28,
   "metadata": {},
   "outputs": [],
   "source": [
    "# Step 5 : separating df with only english characters\n",
    "df = eng_df(df)"
   ]
  },
  {
   "cell_type": "code",
   "execution_count": 30,
   "metadata": {},
   "outputs": [],
   "source": [
    "# Step 6 : fit count feature vectors\n",
    "fit_count_vector(df['Keyword'])"
   ]
  },
  {
   "cell_type": "code",
   "execution_count": 31,
   "metadata": {},
   "outputs": [
    {
     "name": "stdout",
     "output_type": "stream",
     "text": [
      "<class 'pandas.core.frame.DataFrame'>\n",
      "RangeIndex: 3310 entries, 0 to 3309\n",
      "Columns: 2368 entries, 003 to lang\n",
      "dtypes: int64(2365), object(3)\n",
      "memory usage: 59.8+ MB\n"
     ]
    }
   ],
   "source": [
    "# Step 7 : Add count feature vectors to df\n",
    "df = add_count_features(df)\n",
    "df.info()"
   ]
  },
  {
   "cell_type": "code",
   "execution_count": 36,
   "metadata": {},
   "outputs": [],
   "source": [
    "# Step 8 : Label encoding categorial columns\n",
    "df = label_encode(df, ['lang'])"
   ]
  },
  {
   "cell_type": "markdown",
   "metadata": {},
   "source": [
    "# Training Logistic Regression Classifier Model using Cross Validation"
   ]
  },
  {
   "cell_type": "code",
   "execution_count": 32,
   "metadata": {},
   "outputs": [],
   "source": [
    "# custom cross validation function\n",
    "\n",
    "def custom_cv(classifier_obj, X, y, split=5):\n",
    "    from sklearn.model_selection import cross_val_score\n",
    "    scores = cross_val_score(classifier_obj, X, y, cv=split)\n",
    "    print(scores)\n",
    "    return scores.mean()"
   ]
  },
  {
   "cell_type": "code",
   "execution_count": 38,
   "metadata": {
    "scrolled": true
   },
   "outputs": [
    {
     "name": "stdout",
     "output_type": "stream",
     "text": [
      "[0.64305949 0.69942197 0.75892857 0.81626506 0.8        0.77575758\n",
      " 0.87116564 0.89814815 0.81875    0.76038339]\n",
      "0.7841879841731413\n"
     ]
    }
   ],
   "source": [
    "from sklearn.linear_model import LogisticRegression\n",
    "x_col = list(set(list(df)) - set(['label', 'Keyword']))\n",
    "y_col = ['label']\n",
    "accuracy_lc = custom_cv(LogisticRegression(), df[x_col], df[y_col], split=10)\n",
    "print(accuracy_lc)"
   ]
  },
  {
   "cell_type": "markdown",
   "metadata": {},
   "source": [
    "# Training Random Forest Classifier Model using Cross Validation"
   ]
  },
  {
   "cell_type": "code",
   "execution_count": 39,
   "metadata": {
    "scrolled": true
   },
   "outputs": [
    {
     "name": "stdout",
     "output_type": "stream",
     "text": [
      "[0.57790368 0.63294798 0.68452381 0.72289157 0.75757576 0.73636364\n",
      " 0.77300613 0.82407407 0.740625   0.66134185]\n",
      "0.7111253491404965\n"
     ]
    }
   ],
   "source": [
    "from sklearn.ensemble import RandomForestClassifier\n",
    "accuracy_rf = custom_cv(RandomForestClassifier(), df[x_col], df[y_col], split=10)\n",
    "print(accuracy_rf)"
   ]
  },
  {
   "cell_type": "markdown",
   "metadata": {},
   "source": [
    "# Seperating Training and Demo data for Prediction"
   ]
  },
  {
   "cell_type": "code",
   "execution_count": 42,
   "metadata": {},
   "outputs": [
    {
     "name": "stdout",
     "output_type": "stream",
     "text": [
      "<class 'pandas.core.frame.DataFrame'>\n",
      "Int64Index: 3391 entries, 77 to 6553\n",
      "Data columns (total 2 columns):\n",
      "Keyword            3391 non-null object\n",
      "Refined Keyword    3391 non-null object\n",
      "dtypes: object(2)\n",
      "memory usage: 79.5+ KB\n"
     ]
    }
   ],
   "source": [
    "df_demo = df_init.dropna()\n",
    "df_demo.info()"
   ]
  },
  {
   "cell_type": "code",
   "execution_count": 43,
   "metadata": {},
   "outputs": [],
   "source": [
    "import numpy as np\n",
    "indices = np.random.rand(len(df_demo)) <= 0.05\n",
    "df_demo = df_demo[indices]\n",
    "df_demo.to_csv('demo.csv', index=False)"
   ]
  },
  {
   "cell_type": "code",
   "execution_count": 45,
   "metadata": {},
   "outputs": [
    {
     "name": "stdout",
     "output_type": "stream",
     "text": [
      "<class 'pandas.core.frame.DataFrame'>\n",
      "Int64Index: 3391 entries, 77 to 6553\n",
      "Data columns (total 2 columns):\n",
      "Keyword            3391 non-null object\n",
      "Refined Keyword    3391 non-null object\n",
      "dtypes: object(2)\n",
      "memory usage: 79.5+ KB\n"
     ]
    }
   ],
   "source": [
    "training_df = df_init.dropna()\n",
    "training_df.info()"
   ]
  },
  {
   "cell_type": "code",
   "execution_count": 46,
   "metadata": {},
   "outputs": [
    {
     "name": "stdout",
     "output_type": "stream",
     "text": [
      "<class 'pandas.core.frame.DataFrame'>\n",
      "Int64Index: 3218 entries, 77 to 6553\n",
      "Data columns (total 2 columns):\n",
      "Keyword            3218 non-null object\n",
      "Refined Keyword    3218 non-null object\n",
      "dtypes: object(2)\n",
      "memory usage: 75.4+ KB\n"
     ]
    }
   ],
   "source": [
    "training_df = training_df[~indices]\n",
    "training_df.info()"
   ]
  },
  {
   "cell_type": "code",
   "execution_count": 47,
   "metadata": {},
   "outputs": [],
   "source": [
    "training_df.to_csv('training_data.csv', index=False)"
   ]
  },
  {
   "cell_type": "markdown",
   "metadata": {},
   "source": [
    "# Preprocessing function for Prediction Flow"
   ]
  },
  {
   "cell_type": "code",
   "execution_count": 44,
   "metadata": {},
   "outputs": [],
   "source": [
    "def preprocess_pred(dfi):\n",
    "    \n",
    "    # Step 1 : Remove NaN/Empty\n",
    "    dfi = dfi.dropna()\n",
    "    \n",
    "    # Step 2 : Adding Language Feature\n",
    "    dfi = add_lang_feat(dfi)\n",
    "    \n",
    "    # Step 3 : Split urls in Keyword column to words\n",
    "    dfi = split_url_into_words(dfi)\n",
    "    \n",
    "    # Step 4 : detect language in the text and add a feature to df\n",
    "    dfi = detect_lang(dfi)\n",
    "    \n",
    "    # Step 5 : separating df with only english characters\n",
    "    dfi = eng_df(dfi)\n",
    "    \n",
    "    # Step 6 : Add count feature vectors to df\n",
    "    dfi = add_count_features(dfi)\n",
    "    \n",
    "    # Step 8 : Label encoding categorial columns\n",
    "    dfi = label_encode(dfi, ['lang'])\n",
    "    \n",
    "    return dfi"
   ]
  },
  {
   "cell_type": "code",
   "execution_count": 48,
   "metadata": {},
   "outputs": [
    {
     "name": "stdout",
     "output_type": "stream",
     "text": [
      "<class 'pandas.core.frame.DataFrame'>\n",
      "RangeIndex: 3218 entries, 0 to 3217\n",
      "Data columns (total 2 columns):\n",
      "Keyword            3218 non-null object\n",
      "Refined Keyword    3218 non-null object\n",
      "dtypes: object(2)\n",
      "memory usage: 50.4+ KB\n"
     ]
    }
   ],
   "source": [
    "# Loading training data\n",
    "train_df = pd.read_csv('training_data.csv')\n",
    "train_df.info()"
   ]
  },
  {
   "cell_type": "code",
   "execution_count": 49,
   "metadata": {},
   "outputs": [
    {
     "name": "stdout",
     "output_type": "stream",
     "text": [
      "<class 'pandas.core.frame.DataFrame'>\n",
      "RangeIndex: 3142 entries, 0 to 3141\n",
      "Columns: 2368 entries, 003 to lang\n",
      "dtypes: int64(2366), object(2)\n",
      "memory usage: 56.8+ MB\n"
     ]
    }
   ],
   "source": [
    "# preprocessing training data\n",
    "pp_train_df = preprocess_pred(train_df)\n",
    "pp_train_df.info()"
   ]
  },
  {
   "cell_type": "code",
   "execution_count": 50,
   "metadata": {},
   "outputs": [
    {
     "name": "stdout",
     "output_type": "stream",
     "text": [
      "<class 'pandas.core.frame.DataFrame'>\n",
      "RangeIndex: 173 entries, 0 to 172\n",
      "Data columns (total 2 columns):\n",
      "Keyword            173 non-null object\n",
      "Refined Keyword    173 non-null object\n",
      "dtypes: object(2)\n",
      "memory usage: 2.8+ KB\n"
     ]
    }
   ],
   "source": [
    "# loading demo data\n",
    "test_df = pd.read_csv('demo.csv')\n",
    "test_df.info()"
   ]
  },
  {
   "cell_type": "code",
   "execution_count": 51,
   "metadata": {},
   "outputs": [
    {
     "name": "stdout",
     "output_type": "stream",
     "text": [
      "<class 'pandas.core.frame.DataFrame'>\n",
      "RangeIndex: 168 entries, 0 to 167\n",
      "Columns: 2368 entries, 003 to lang\n",
      "dtypes: int64(2366), object(2)\n",
      "memory usage: 3.0+ MB\n"
     ]
    }
   ],
   "source": [
    "# preprocessing demo data\n",
    "pp_test_df = preprocess_pred(test_df)\n",
    "pp_test_df.info()"
   ]
  },
  {
   "cell_type": "markdown",
   "metadata": {},
   "source": [
    "# Training Logistic Regression Model and Predicting on Demo Data "
   ]
  },
  {
   "cell_type": "code",
   "execution_count": 52,
   "metadata": {},
   "outputs": [],
   "source": [
    "from sklearn.linear_model import LogisticRegression\n",
    "x_cols = list(set(list(pp_train_df)) - set(['label', 'Keyword']))\n",
    "y_cols = ['label']\n",
    "lr_model = LogisticRegression().fit(pp_train_df[x_cols],pp_train_df[y_cols] )\n",
    "predictions = lr_model.predict(pp_test_df[x_cols])"
   ]
  },
  {
   "cell_type": "code",
   "execution_count": 53,
   "metadata": {},
   "outputs": [
    {
     "name": "stdout",
     "output_type": "stream",
     "text": [
      "<class 'pandas.core.frame.DataFrame'>\n",
      "RangeIndex: 168 entries, 0 to 167\n",
      "Data columns (total 2 columns):\n",
      "Keyword    168 non-null object\n",
      "label      168 non-null object\n",
      "dtypes: object(2)\n",
      "memory usage: 2.7+ KB\n"
     ]
    }
   ],
   "source": [
    "results_df = pp_test_df[['Keyword','label']]\n",
    "results_df.info()"
   ]
  },
  {
   "cell_type": "code",
   "execution_count": 54,
   "metadata": {},
   "outputs": [],
   "source": [
    "results_df['predicted'] = predictions"
   ]
  },
  {
   "cell_type": "code",
   "execution_count": 60,
   "metadata": {},
   "outputs": [
    {
     "data": {
      "text/html": [
       "<div>\n",
       "<style scoped>\n",
       "    .dataframe tbody tr th:only-of-type {\n",
       "        vertical-align: middle;\n",
       "    }\n",
       "\n",
       "    .dataframe tbody tr th {\n",
       "        vertical-align: top;\n",
       "    }\n",
       "\n",
       "    .dataframe thead th {\n",
       "        text-align: right;\n",
       "    }\n",
       "</style>\n",
       "<table border=\"1\" class=\"dataframe\">\n",
       "  <thead>\n",
       "    <tr style=\"text-align: right;\">\n",
       "      <th></th>\n",
       "      <th>Keyword</th>\n",
       "      <th>label</th>\n",
       "      <th>predicted</th>\n",
       "    </tr>\n",
       "  </thead>\n",
       "  <tbody>\n",
       "    <tr>\n",
       "      <th>0</th>\n",
       "      <td>50358906549 Shashikant Chaudhary</td>\n",
       "      <td>GlobalLogic</td>\n",
       "      <td>Careers</td>\n",
       "    </tr>\n",
       "    <tr>\n",
       "      <th>1</th>\n",
       "      <td>net trainee global logic</td>\n",
       "      <td>Careers</td>\n",
       "      <td>Careers</td>\n",
       "    </tr>\n",
       "    <tr>\n",
       "      <th>2</th>\n",
       "      <td>\"Global Logic Israel\"</td>\n",
       "      <td>GL - Israel</td>\n",
       "      <td>GL - Israel</td>\n",
       "    </tr>\n",
       "    <tr>\n",
       "      <th>3</th>\n",
       "      <td>About globallogic technology</td>\n",
       "      <td>GlobalLogic</td>\n",
       "      <td>GlobalLogic</td>\n",
       "    </tr>\n",
       "    <tr>\n",
       "      <th>4</th>\n",
       "      <td>address of global logic technologies limited</td>\n",
       "      <td>GlobalLogic</td>\n",
       "      <td>GlobalLogic</td>\n",
       "    </tr>\n",
       "  </tbody>\n",
       "</table>\n",
       "</div>"
      ],
      "text/plain": [
       "                                        Keyword        label    predicted\n",
       "0              50358906549 Shashikant Chaudhary  GlobalLogic      Careers\n",
       "1                      net trainee global logic      Careers      Careers\n",
       "2                         \"Global Logic Israel\"  GL - Israel  GL - Israel\n",
       "3                  About globallogic technology  GlobalLogic  GlobalLogic\n",
       "4  address of global logic technologies limited  GlobalLogic  GlobalLogic"
      ]
     },
     "execution_count": 60,
     "metadata": {},
     "output_type": "execute_result"
    }
   ],
   "source": [
    "results_df[:5]"
   ]
  },
  {
   "cell_type": "code",
   "execution_count": 58,
   "metadata": {},
   "outputs": [],
   "source": [
    "results_df.to_csv('results.csv', index=False)"
   ]
  }
 ],
 "metadata": {
  "kernelspec": {
   "display_name": "Python 3",
   "language": "python",
   "name": "python3"
  },
  "language_info": {
   "codemirror_mode": {
    "name": "ipython",
    "version": 3
   },
   "file_extension": ".py",
   "mimetype": "text/x-python",
   "name": "python",
   "nbconvert_exporter": "python",
   "pygments_lexer": "ipython3",
   "version": "3.7.0"
  }
 },
 "nbformat": 4,
 "nbformat_minor": 2
}
